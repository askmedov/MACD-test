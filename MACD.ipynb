{
 "cells": [
  {
   "cell_type": "code",
   "execution_count": 1,
   "metadata": {},
   "outputs": [],
   "source": [
    "import numpy as np\n",
    "import pandas as pd\n",
    "import seaborn as sns\n",
    "from hyperopt import hp\n",
    "from hyperopt import tpe\n",
    "from hyperopt import Trials\n",
    "from hyperopt import fmin\n",
    "from tqdm import tqdm_notebook\n",
    "\n",
    "%matplotlib inline"
   ]
  },
  {
   "cell_type": "code",
   "execution_count": 2,
   "metadata": {},
   "outputs": [],
   "source": [
    "df = pd.read_excel('lcap2.xlsx', index_col='Date')"
   ]
  },
  {
   "cell_type": "code",
   "execution_count": 3,
   "metadata": {},
   "outputs": [],
   "source": [
    "def create_ema(series, lag=12):\n",
    "    \"\"\"\n",
    "    Creates EMA for pd.Series with specified lag\n",
    "    \"\"\"\n",
    "    tick=series.name\n",
    "    dtf = pd.DataFrame(series)\n",
    "    \n",
    "    k = 2/(lag + 1)\n",
    "    dtf['ma'] = dtf[tick].rolling(lag).mean()\n",
    "    dtf['ema'] = dtf[tick]*k + dtf['ma'].shift(1)*(1-k)\n",
    "    return dtf['ema']\n",
    "\n",
    "def create_macd(series, lag1=12, lag2=26, signal_lag=9, start_current=1, comm=0.002):\n",
    "    \"\"\"\n",
    "    Creates a pd.DataFrame with calculated MACD, signal line and calculates the strategy's return.\n",
    "    It also asks for initial position: 1 for buy or -1 for sell\n",
    "    \"\"\"\n",
    "    \n",
    "    #Prepares names and a dataframe\n",
    "    tick=series.name\n",
    "    dtf = pd.DataFrame(series)\n",
    "    emaFast = 'ema' + str(lag1)\n",
    "    emaSlow = 'ema' + str(lag2)\n",
    "    \n",
    "    #Calculates EMA and MACD\n",
    "    dtf[emaFast] = create_ema(series, lag=lag1)\n",
    "    dtf[emaSlow] = create_ema(series, lag=lag2)\n",
    "    dtf['macd'] = dtf[emaFast] - dtf[emaSlow]\n",
    "    dtf['signal'] = create_ema(dtf['macd'], lag=signal_lag)\n",
    "    \n",
    "    #Identifies buy and sell signals and aggregates them into a single series\n",
    "    dtf['buy'] = np.where( (dtf['macd'] > dtf['signal']) & (dtf['macd'].shift(1) < dtf['signal'].shift(1)), 1, 0 )\n",
    "    dtf['sell'] = np.where( (dtf['macd'] < dtf['signal']) & (dtf['macd'].shift(1) > dtf['signal'].shift(1)), 1, 0 )\n",
    "    dtf['bns'] = np.where( dtf['buy'] == 1, 1, 0 )\n",
    "    dtf['bns'] = np.where( dtf['sell'] == 1, -1, dtf['bns'] )\n",
    "    \n",
    "    #Calculates current position - long or short the stock and sets initial condition \n",
    "    dtf['current'] = dtf['bns']\n",
    "    dtf['current'].iloc[0] = start_current\n",
    "    dtf['current'] = np.where(dtf['current'] == 0, np.nan, dtf['current'])\n",
    "    dtf['current'] = dtf['current'].fillna(method='ffill')\n",
    "    \n",
    "    #Calculates the effect of MACD and applies commissions for every direction change\n",
    "    dtf['chng'] = dtf[tick]/dtf[tick].shift(1)-1\n",
    "    dtf['effect'] = 1+dtf['chng']*dtf['current'].shift(1)\n",
    "    dtf['effect'] = dtf['effect'].fillna(1)\n",
    "    dtf['effect'] = np.where(dtf['bns'] == 0, dtf['effect'], dtf['effect']-comm)\n",
    "    \n",
    "    #Calculates the return in terms of the stock price\n",
    "    dtf['strategy'] = dtf['effect'].cumprod()*dtf[tick].iloc[0]\n",
    "    \n",
    "    return dtf\n"
   ]
  },
  {
   "cell_type": "code",
   "execution_count": null,
   "metadata": {},
   "outputs": [],
   "source": []
  },
  {
   "cell_type": "code",
   "execution_count": 4,
   "metadata": {},
   "outputs": [
    {
     "data": {
      "application/vnd.jupyter.widget-view+json": {
       "model_id": "3a45388d007e41a49c7ce9522528fad3",
       "version_major": 2,
       "version_minor": 0
      },
      "text/plain": [
       "HBox(children=(IntProgress(value=0, max=434), HTML(value='')))"
      ]
     },
     "metadata": {},
     "output_type": "display_data"
    },
    {
     "name": "stderr",
     "output_type": "stream",
     "text": [
      "C:\\Users\\User\\Anaconda3\\lib\\site-packages\\pandas\\core\\indexing.py:205: SettingWithCopyWarning: \n",
      "A value is trying to be set on a copy of a slice from a DataFrame\n",
      "\n",
      "See the caveats in the documentation: http://pandas.pydata.org/pandas-docs/stable/user_guide/indexing.html#returning-a-view-versus-a-copy\n",
      "  self._setitem_with_indexer(indexer, value)\n"
     ]
    },
    {
     "name": "stdout",
     "output_type": "stream",
     "text": [
      "\n"
     ]
    }
   ],
   "source": [
    "\"\"\"\n",
    "The following checks MACD indicator for all of the stocks.\n",
    "It trains on the first 90% of the data and checks on the remaining 10%\n",
    "Results are aggregated into the 'ticker_results' dictionary\n",
    "\"\"\"\n",
    "\n",
    "train_data = 0.9\n",
    "end_train = int(df.shape[0]*train_data)\n",
    "attempts_to_find_maximum = 300\n",
    "\n",
    "ticker_results = {}\n",
    "\n",
    "\n",
    "for tick in tqdm_notebook(df.columns):\n",
    "    \n",
    "    #Creates a specific dataframe for that stock\n",
    "    train_df = df[[tick]].iloc[:end_train]\n",
    "\n",
    "    def calc_return(params, series=train_df[tick]):\n",
    "\n",
    "        my_df = create_macd(series, lag1=int(params['lag1']), lag2=int(params['lag2']), \\\n",
    "                            signal_lag=int(params['signal_lag']))\n",
    "        return -my_df['strategy'].iloc[-1]\n",
    "    \n",
    "    #Bayesian optimization process\n",
    "    space_index = {\n",
    "            'lag1': hp.quniform('lag1', 5, 200, 1),\n",
    "            'lag2': hp.quniform('lag2', 10, 400, 1),\n",
    "            'signal_lag': hp.quniform('signal_lag', 5, 100, 1)\n",
    "        }\n",
    "\n",
    "    tpe_algo = tpe.suggest\n",
    "    tpe_trials = Trials()\n",
    "    tpe_best = fmin(fn=calc_return, space=space_index, algo=tpe_algo, \n",
    "                    trials=tpe_trials, max_evals=attempts_to_find_maximum, verbose=False)\n",
    "    \n",
    "    #Testing process\n",
    "    spy_test = create_macd(df[tick], lag1=int(tpe_best['lag1']), lag2=int(tpe_best['lag2']), \\\n",
    "                        signal_lag=int(tpe_best['signal_lag']))\n",
    "    spy_test = spy_test.iloc[end_train:]\n",
    "    spy_test['strategy'] = spy_test['effect'].cumprod()*spy_test[tick].iloc[0]\n",
    "    \n",
    "    abs_perf = spy_test['strategy'].iloc[-1]/spy_test['strategy'].iloc[0] - 1\n",
    "    rel_perf = spy_test['strategy'].iloc[-1]/spy_test['strategy'].iloc[0] - spy_test[tick].iloc[-1]/spy_test[tick].iloc[0]\n",
    "        \n",
    "    ticker_results[tick] = [abs_perf, rel_perf]"
   ]
  },
  {
   "cell_type": "code",
   "execution_count": 5,
   "metadata": {},
   "outputs": [],
   "source": [
    "ticker_results = pd.DataFrame(ticker_results, index=['abs_perf', 'rel_perf']).T\n",
    "ticker_results['better'] = np.where(ticker_results.rel_perf > 0, 1, 0)\n",
    "ticker_results['actual'] = df.iloc[-1]/df.iloc[-spy_test.shape[0]]"
   ]
  },
  {
   "cell_type": "code",
   "execution_count": 6,
   "metadata": {},
   "outputs": [
    {
     "name": "stdout",
     "output_type": "stream",
     "text": [
      "Average performance is 10.28% over/under buy-and-hold strategy\n",
      "MACD was better than buy-and-hold strategy for 216 (49.77%) of all stocks\n",
      "The correlation between MACD's outperformance and stock's actual performance is -0.44\n",
      "Equal weight result of MACD-driven investment for all stocks is: -2.77% for the period between 2019-05-02 2020-05-13\n"
     ]
    }
   ],
   "source": [
    "print(\"Average performance is\", str(round(ticker_results.rel_perf.mean()*100, 2))+'% over/under buy-and-hold strategy')\n",
    "print(\"MACD was better than buy-and-hold strategy for\", ticker_results.better.sum(), \\\n",
    "      \"(\" + str(round(ticker_results.better.mean()*100,2)) + \"%) of all stocks\")\n",
    "print(\"The correlation between MACD's outperformance and stock's actual performance is\", \\\n",
    "     round(ticker_results[['rel_perf', 'actual']].corr().iloc[0][1], 2))\n",
    "print(\"Equal weight result of MACD-driven investment for all stocks is:\", \\\n",
    "     str(round(ticker_results.abs_perf.mean()*100, 2))+'% for the period between', \\\n",
    "     spy_test.index[0].date(), spy_test.index[-1].date())"
   ]
  },
  {
   "cell_type": "code",
   "execution_count": null,
   "metadata": {},
   "outputs": [],
   "source": []
  },
  {
   "cell_type": "code",
   "execution_count": null,
   "metadata": {},
   "outputs": [],
   "source": []
  },
  {
   "cell_type": "code",
   "execution_count": null,
   "metadata": {},
   "outputs": [],
   "source": []
  },
  {
   "cell_type": "code",
   "execution_count": null,
   "metadata": {},
   "outputs": [],
   "source": []
  },
  {
   "cell_type": "code",
   "execution_count": null,
   "metadata": {},
   "outputs": [],
   "source": []
  },
  {
   "cell_type": "code",
   "execution_count": null,
   "metadata": {},
   "outputs": [],
   "source": []
  }
 ],
 "metadata": {
  "kernelspec": {
   "display_name": "Python 3",
   "language": "python",
   "name": "python3"
  },
  "language_info": {
   "codemirror_mode": {
    "name": "ipython",
    "version": 3
   },
   "file_extension": ".py",
   "mimetype": "text/x-python",
   "name": "python",
   "nbconvert_exporter": "python",
   "pygments_lexer": "ipython3",
   "version": "3.7.4"
  }
 },
 "nbformat": 4,
 "nbformat_minor": 2
}
